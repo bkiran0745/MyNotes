{
 "cells": [
  {
   "cell_type": "markdown",
   "id": "deac315c",
   "metadata": {},
   "source": [
    "# 1 st pgm"
   ]
  },
  {
   "cell_type": "code",
   "execution_count": 1,
   "id": "b7b8ba7c",
   "metadata": {},
   "outputs": [
    {
     "name": "stdout",
     "output_type": "stream",
     "text": [
      "['sunny' 'warm' 'normal' 'strong' 'warm' 'same']\n",
      "['sunny' 'warm' '?' 'strong' '?' '?']\n"
     ]
    }
   ],
   "source": [
    "import pandas as pd\n",
    "import numpy as np\n",
    "data=pd.read_csv('lab1.csv')\n",
    "data\n",
    "features=np.array(data)[:,:-1]\n",
    "features\n",
    "target=np.array(data)[:,-1]\n",
    "target\n",
    "for i,val in enumerate(target):\n",
    "    if val=='yes':\n",
    "        specific_h=features[i].copy()\n",
    "        break\n",
    "print(specific_h)\n",
    "for i,val in enumerate(features):\n",
    "    if target[i]=='yes':\n",
    "        for x in range(len(specific_h)):\n",
    "            if val[x]!=specific_h[x]:\n",
    "                specific_h[x]='?'\n",
    "print(specific_h)"
   ]
  },
  {
   "cell_type": "markdown",
   "id": "c9dc1375",
   "metadata": {},
   "source": [
    "# 2  pgm"
   ]
  },
  {
   "cell_type": "code",
   "execution_count": 6,
   "id": "588a2af4",
   "metadata": {},
   "outputs": [
    {
     "name": "stdout",
     "output_type": "stream",
     "text": [
      "initilazation of specific_h and general_h\n",
      "['sunny' 'warm' 'normal' 'strong' 'warm' 'same']\n",
      "[['?', '?', '?', '?', '?', '?'], ['?', '?', '?', '?', '?', '?'], ['?', '?', '?', '?', '?', '?'], ['?', '?', '?', '?', '?', '?'], ['?', '?', '?', '?', '?', '?'], ['?', '?', '?', '?', '?', '?']]\n",
      "['sunny' 'warm' '?' 'strong' '?' '?'] \n",
      "\n",
      "[['sunny', '?', '?', '?', '?', '?'], ['?', 'warm', '?', '?', '?', '?'], ['?', '?', '?', '?', '?', '?'], ['?', '?', '?', '?', '?', '?'], ['?', '?', '?', '?', '?', '?'], ['?', '?', '?', '?', '?', '?']] \n",
      "\n",
      "\n",
      " final specific_h\n",
      "['sunny' 'warm' '?' 'strong' '?' '?']\n",
      "\n",
      " final general_h\n",
      "[['sunny', '?', '?', '?', '?', '?'], ['?', 'warm', '?', '?', '?', '?']]\n"
     ]
    }
   ],
   "source": [
    "import numpy as np\n",
    "import pandas as pd\n",
    "data=pd.read_csv('lab1.csv')\n",
    "\n",
    "features=np.array(data)[:,:-1]\n",
    "\n",
    "target=np.array(data)[:,-1]\n",
    "\n",
    "specific_h=features[0].copy()\n",
    "print(\"initilazation of specific_h and general_h\")\n",
    "print(specific_h)\n",
    "general_h=[[\"?\"for  i in range(len(specific_h))]for i in range(len(specific_h))]\n",
    "print(general_h)\n",
    "for i,h in enumerate(features):\n",
    "    if target[i]==\"yes\":\n",
    "        for x in range(len(specific_h)):\n",
    "            if h[x]!=specific_h[x]:\n",
    "                specific_h[x]='?'\n",
    "                general_h[x][x]='?'\n",
    "    if target[i]==\"no\":\n",
    "        for x in range(len(specific_h)):\n",
    "            if h[x]!=specific_h[x]:\n",
    "                general_h[x][x]=specific_h[x]\n",
    "            else:\n",
    "                general_h[x][x]='?'\n",
    "print(specific_h,\"\\n\")\n",
    "print(general_h,\"\\n\")\n",
    "indices=[i for i,val in enumerate(general_h)if val==['?','?','?','?','?','?']]\n",
    "for i in indices:\n",
    "    general_h.remove(['?','?','?','?','?','?'])\n",
    "print(\"\\n final specific_h\",specific_h,sep=\"\\n\")\n",
    "print(\"\\n final general_h\",general_h,sep=\"\\n\")\n"
   ]
  },
  {
   "cell_type": "markdown",
   "id": "5ff6f339",
   "metadata": {},
   "source": [
    "## 3 pgm"
   ]
  },
  {
   "cell_type": "code",
   "execution_count": 2,
   "id": "d927adcc",
   "metadata": {
    "scrolled": true
   },
   "outputs": [
    {
     "name": "stdout",
     "output_type": "stream",
     "text": [
      "\n",
      " Given Play Tennis Data Set:\n",
      "\n",
      "    PlayTennis   Outlook Temperature Humidity    Wind\n",
      "0          No     Sunny         Hot     High    Weak\n",
      "1          No     Sunny         Hot     High  Strong\n",
      "2         Yes  Overcast         Hot     High    Weak\n",
      "3         Yes      Rain        Mild     High    Weak\n",
      "4         Yes      Rain        Cool   Normal    Weak\n",
      "5          No      Rain        Cool   Normal  Strong\n",
      "6         Yes  Overcast        Cool   Normal  Strong\n",
      "7          No     Sunny        Mild     High    Weak\n",
      "8         Yes     Sunny        Cool   Normal    Weak\n",
      "9         Yes      Rain        Mild   Normal    Weak\n",
      "10        Yes     Sunny        Mild   Normal  Strong\n",
      "11        Yes  Overcast        Mild     High  Strong\n",
      "12        Yes  Overcast         Hot   Normal    Weak\n",
      "13         No      Rain        Mild     High  Strong\n",
      "\n",
      " List of Attributes: ['PlayTennis', 'Outlook', 'Temperature', 'Humidity', 'Wind']\n",
      "\n",
      " predicting Attributes: ['Outlook', 'Temperature', 'Humidity', 'Wind']\n",
      "\n",
      " Gain= [0.2467498197744391, 0.029222565658954647, 0.15183550136234136, 0.04812703040826927]\n",
      "\n",
      " best attribute: Outlook\n",
      "\n",
      " Gain= [0.01997309402197489, 0.01997309402197489, 0.9709505944546686]\n",
      "\n",
      " best attribute: Wind\n",
      "\n",
      " Gain= [0.5709505944546686, 0.9709505944546686, 0.01997309402197489]\n",
      "\n",
      " best attribute: Humidity\n",
      "\n",
      " The resultant decision tree is :\n",
      "\n",
      "{'Outlook': {'Overcast': 'Yes', 'Rain': {'Wind': {'Strong': 'No', 'Weak': 'Yes'}}, 'Sunny': {'Humidity': {'High': 'No', 'Normal': 'Yes'}}}}\n"
     ]
    }
   ],
   "source": [
    "import pandas as pd\n",
    "from collections import Counter\n",
    "import math\n",
    "tennis=pd.read_csv('playtennis.csv')\n",
    "print(\"\\n Given Play Tennis Data Set:\\n\\n\",tennis)\n",
    "def entropy(alist):\n",
    "    c=Counter(x for x in alist)\n",
    "    instances=len(alist)\n",
    "    prob=[x / instances for x in c.values()]\n",
    "    return sum( [-p*math.log(p,2)for p in prob])\n",
    "def information_gain(d,split,target):\n",
    "    splitting=d.groupby(split)\n",
    "    n=len(d.index)\n",
    "    agent=splitting.agg({target :[entropy,lambda x:len(x)/n]})[target]\n",
    "    agent.columns=['entropy','observations']\n",
    "    newentropy=sum(agent['entropy']* agent['observations'])\n",
    "    oldentropy=entropy(d[target])\n",
    "    return oldentropy-newentropy\n",
    "def id3(sub,target,a):\n",
    "    count=Counter(x for x in sub[target])\n",
    "    if len(count)==1:\n",
    "        return next(iter(count))\n",
    "    else:\n",
    "        gain =[information_gain(sub,attr,target)for attr in a]\n",
    "        print(\"\\n Gain=\",gain)\n",
    "        maximum=gain.index(max(gain))\n",
    "        best=a[maximum]\n",
    "        print(\"\\n best attribute:\",best)\n",
    "        tree={best:{}}\n",
    "        remaining=[i for i in a if i != best]\n",
    "        \n",
    "        for val,subset in sub.groupby(best):\n",
    "            subtree=id3(subset,target,remaining)\n",
    "            tree[best][val]=subtree\n",
    "        return tree\n",
    "names=list(tennis.columns)\n",
    "print(\"\\n List of Attributes:\", names)\n",
    "names.remove('PlayTennis')\n",
    "print(\"\\n predicting Attributes:\",names)\n",
    "\n",
    "tree=id3(tennis,'PlayTennis',names)\n",
    "print(\"\\n The resultant decision tree is :\\n\")\n",
    "print(tree)"
   ]
  },
  {
   "cell_type": "markdown",
   "id": "2567755f",
   "metadata": {},
   "source": [
    "# 4 pgm"
   ]
  },
  {
   "cell_type": "code",
   "execution_count": 1,
   "id": "8368d5db",
   "metadata": {},
   "outputs": [
    {
     "name": "stdout",
     "output_type": "stream",
     "text": [
      "Input:\n",
      "[[0.66666667 1.        ]\n",
      " [0.33333333 0.55555556]\n",
      " [1.         0.66666667]]\n",
      "Actual output:\n",
      "[[0.92]\n",
      " [0.86]\n",
      " [0.89]]\n",
      "Predicted output:\n",
      " [[0.89487324]\n",
      " [0.87729565]\n",
      " [0.89721171]]\n"
     ]
    }
   ],
   "source": [
    "import numpy as np\n",
    "x = np.array(([2,9],[1,5],[3,6]),dtype = float)\n",
    "y = np.array(([92],[86],[89]),dtype = float)\n",
    "x = x/np.amax(x,axis = 0)\n",
    "y = y/100\n",
    "def sigmoid(x):\n",
    "    return 1/(1+np.exp(-x))\n",
    "def derivatives_sigmoid(x):\n",
    "    return x*(1-x)\n",
    "\n",
    "epoch = 7000\n",
    "lr = 0.1\n",
    "inputlayer_neurons = 2\n",
    "hiddenlayer_neurons = 3\n",
    "output_neurons = 1\n",
    "\n",
    "wh = np.random.uniform(size = (inputlayer_neurons,hiddenlayer_neurons))\n",
    "bh = np.random.uniform(size = (1,hiddenlayer_neurons))\n",
    "wout = np.random.uniform(size = (hiddenlayer_neurons,output_neurons))\n",
    "bout = np.random.uniform(size = (1,output_neurons))\n",
    "\n",
    "for i in range(epoch):\n",
    "    hinp1 = np.dot(x,wh)\n",
    "    hinp = hinp1 + bh\n",
    "    wayer_act = sigmoid(hinp)\n",
    "    outinp1 = np.dot(wayer_act,wout)\n",
    "    outinp = outinp1 + bout\n",
    "    output = sigmoid(outinp)\n",
    "    \n",
    "    EO = y-output\n",
    "    outgrad = derivatives_sigmoid(output)\n",
    "    d_output = EO*outgrad\n",
    "    EH = d_output.dot(wout.T)\n",
    "    hiddengrad = derivatives_sigmoid(wayer_act)\n",
    "    d_hiddengrad = EH*hiddengrad\n",
    "    wout +=wayer_act.T.dot(d_output)*lr\n",
    "    \n",
    "print(\"Input:\\n\"+str(x))\n",
    "print(\"Actual output:\\n\"+str(y))\n",
    "print(\"Predicted output:\\n\",output)"
   ]
  },
  {
   "cell_type": "markdown",
   "id": "87d437da",
   "metadata": {},
   "source": [
    "# 5 pgm"
   ]
  },
  {
   "cell_type": "code",
   "execution_count": 3,
   "id": "71b39730",
   "metadata": {},
   "outputs": [
    {
     "name": "stdout",
     "output_type": "stream",
     "text": [
      "The dataset is                                   message label\n",
      "0                        i love sandwitch   pos\n",
      "1                this is an amazing place   pos\n",
      "2      i feel very good about these beers   pos\n",
      "3                    this is my best work   pos\n",
      "4                    what an awesome view   pos\n",
      "5            i do not like this restraunt   neg\n",
      "6                i am tired of this stuff   neg\n",
      "7                  i can't deal with this   neg\n",
      "8                    he is my sworn enemy   neg\n",
      "9                     my boss is horrible   neg\n",
      "10               this is an awesome place   pos\n",
      "11  i do not like the taste of this juice   neg\n",
      "12                        i love to dance   pos\n",
      "13      i am sick and tired of this place   neg\n",
      "14                   what a great holiday   pos\n",
      "15           that is bad locality to stay   neg\n",
      "16        we will have good fun tommorrow   pos\n",
      "17       i went to my enemy's house today   neg\n",
      "The dimensions of the dataset (18, 2)\n",
      "0                          i love sandwitch\n",
      "1                  this is an amazing place\n",
      "2        i feel very good about these beers\n",
      "3                      this is my best work\n",
      "4                      what an awesome view\n",
      "5              i do not like this restraunt\n",
      "6                  i am tired of this stuff\n",
      "7                    i can't deal with this\n",
      "8                      he is my sworn enemy\n",
      "9                       my boss is horrible\n",
      "10                 this is an awesome place\n",
      "11    i do not like the taste of this juice\n",
      "12                          i love to dance\n",
      "13        i am sick and tired of this place\n",
      "14                     what a great holiday\n",
      "15             that is bad locality to stay\n",
      "16          we will have good fun tommorrow\n",
      "17         i went to my enemy's house today\n",
      "Name: message, dtype: object\n",
      "0     1\n",
      "1     1\n",
      "2     1\n",
      "3     1\n",
      "4     1\n",
      "5     0\n",
      "6     0\n",
      "7     0\n",
      "8     0\n",
      "9     0\n",
      "10    1\n",
      "11    0\n",
      "12    1\n",
      "13    0\n",
      "14    1\n",
      "15    0\n",
      "16    1\n",
      "17    0\n",
      "Name: labelnum, dtype: int64\n",
      "\n",
      " the featres of dataset:\n",
      "\n",
      "\n",
      " Train Test Split\n",
      "\n",
      " The total number of traning data: (12,)\n",
      "\n",
      " The total number of testdata data: (6,)\n",
      "\n",
      " Accuracy of the classifier is 0.8333333333333334\n",
      "\n",
      " Confusion matric is\n",
      " [[3 0]\n",
      " [1 2]]\n",
      "\n",
      " Classification report is\n",
      "               precision    recall  f1-score   support\n",
      "\n",
      "           0       0.75      1.00      0.86         3\n",
      "           1       1.00      0.67      0.80         3\n",
      "\n",
      "    accuracy                           0.83         6\n",
      "   macro avg       0.88      0.83      0.83         6\n",
      "weighted avg       0.88      0.83      0.83         6\n",
      "\n",
      "\n",
      " Value of precision is\n",
      " 1.0\n",
      "\n",
      " Value of Recall is\n",
      " 0.6666666666666666\n"
     ]
    }
   ],
   "source": [
    "import pandas as pd\n",
    "from sklearn.feature_extraction.text import TfidfVectorizer\n",
    "from sklearn.model_selection import train_test_split\n",
    "from sklearn.naive_bayes import MultinomialNB\n",
    "from sklearn.metrics import accuracy_score\n",
    "from sklearn import metrics\n",
    "\n",
    "data=pd.read_csv(\"lab5.csv\",names=['message','label'])\n",
    "print('The dataset is',data)\n",
    "print('The dimensions of the dataset',data.shape)\n",
    "data['labelnum']=data.label.map({'pos':1,'neg':0})\n",
    "x=data.message\n",
    "y=data.labelnum\n",
    "print(x)\n",
    "print(y)\n",
    "vectorizer=TfidfVectorizer()\n",
    "data=vectorizer.fit_transform(x)\n",
    "print('\\n the featres of dataset:\\n')\n",
    "\n",
    "df=pd.DataFrame(data.toarray(),columns=vectorizer.get_feature_names_out())\n",
    "df.head()\n",
    "\n",
    "print('\\n Train Test Split')\n",
    "xtrain,xtest,ytrain,ytest=train_test_split(data,y,test_size=0.3,random_state=42)\n",
    "print('\\n The total number of traning data:',ytrain.shape)\n",
    "print('\\n The total number of testdata data:',ytest.shape)\n",
    "\n",
    "clf=MultinomialNB().fit(xtrain,ytrain)\n",
    "predict=clf.predict(xtest)\n",
    "predicted=clf.predict(xtest)\n",
    "print('\\n Accuracy of the classifier is',metrics.accuracy_score(ytest,predicted))\n",
    "print('\\n Confusion matric is\\n',metrics.confusion_matrix(ytest,predicted))\n",
    "print('\\n Classification report is\\n',metrics.classification_report(ytest,predicted))\n",
    "print('\\n Value of precision is\\n',metrics.precision_score(ytest,predicted))\n",
    "print('\\n Value of Recall is\\n',metrics.recall_score(ytest,predicted))\n"
   ]
  },
  {
   "cell_type": "markdown",
   "id": "b1cfb08f",
   "metadata": {},
   "source": [
    "## 6 pgm"
   ]
  },
  {
   "cell_type": "code",
   "execution_count": 6,
   "id": "22f9d6be",
   "metadata": {},
   "outputs": [
    {
     "name": "stdout",
     "output_type": "stream",
     "text": [
      "                   Age  Gender FamilyHist    Diet Lifestyle Cholesterol  \\\n",
      "0   SuperSeniorCitizen    Male        Yes  Medium  Sedetary        High   \n",
      "1   SuperSeniorCitizen  Female        Yes  Medium  Sedetary        High   \n",
      "2        SeniorCitizen    Male         No    High  Moderate  BorderLine   \n",
      "3                 Teen    Male        Yes  Medium  Sedetary      Normal   \n",
      "4                Youth  Female        Yes    High   Athlete      Normal   \n",
      "5           MiddleAged    Male        Yes  Medium    Active        High   \n",
      "6                 Teen    Male        Yes    High  Moderate        High   \n",
      "7   SuperSeniorCitizen    Male        Yes  Medium  Sedetary        High   \n",
      "8                Youth  Female        Yes    High   Athlete      Normal   \n",
      "9        SeniorCitizen  Female         No    High   Athlete      Normal   \n",
      "10                Teen  Female         No  Medium  Moderate        High   \n",
      "11                Teen    Male        Yes  Medium  Sedetary      Normal   \n",
      "12          MiddleAged  Female         No    High   Athlete        High   \n",
      "13          MiddleAged    Male        Yes  Medium    Active        High   \n",
      "14               Youth  Female        Yes    High   Athlete  BorderLine   \n",
      "15  SuperSeniorCitizen    Male        Yes    High   Athlete      Normal   \n",
      "16       SeniorCitizen  Female         No  Medium  Moderate  BorderLine   \n",
      "17               Youth  Female        Yes  Medium   Athlete  BorderLine   \n",
      "18                Teen    Male        Yes  Medium  Sedetary      Normal   \n",
      "\n",
      "   HeartDisease  \n",
      "0           Yes  \n",
      "1           Yes  \n",
      "2           Yes  \n",
      "3            No  \n",
      "4            No  \n",
      "5           Yes  \n",
      "6           Yes  \n",
      "7           Yes  \n",
      "8            No  \n",
      "9           Yes  \n",
      "10          Yes  \n",
      "11           No  \n",
      "12           No  \n",
      "13          Yes  \n",
      "14           No  \n",
      "15          Yes  \n",
      "16          Yes  \n",
      "17           No  \n",
      "18           No  \n",
      "confusion matrix [[1 1]\n",
      " [0 2]]\n"
     ]
    },
    {
     "name": "stderr",
     "output_type": "stream",
     "text": [
      "C:\\Users\\MicroApt\\AppData\\Local\\Temp\\ipykernel_13736\\4041856135.py:9: DeprecationWarning: In a future version, `df.iloc[:, i] = newvals` will attempt to set the values inplace instead of always setting a new array. To retain the old behavior, use either `df[df.columns[i]] = newvals` or, if columns are non-unique, `df.isetitem(i, newvals)`\n",
      "  data.iloc[:,i]=encoder.fit_transform(data.iloc[:,i].astype(str))\n",
      "C:\\Users\\MicroApt\\AppData\\Local\\Temp\\ipykernel_13736\\4041856135.py:9: DeprecationWarning: In a future version, `df.iloc[:, i] = newvals` will attempt to set the values inplace instead of always setting a new array. To retain the old behavior, use either `df[df.columns[i]] = newvals` or, if columns are non-unique, `df.isetitem(i, newvals)`\n",
      "  data.iloc[:,i]=encoder.fit_transform(data.iloc[:,i].astype(str))\n",
      "C:\\Users\\MicroApt\\AppData\\Local\\Temp\\ipykernel_13736\\4041856135.py:9: DeprecationWarning: In a future version, `df.iloc[:, i] = newvals` will attempt to set the values inplace instead of always setting a new array. To retain the old behavior, use either `df[df.columns[i]] = newvals` or, if columns are non-unique, `df.isetitem(i, newvals)`\n",
      "  data.iloc[:,i]=encoder.fit_transform(data.iloc[:,i].astype(str))\n",
      "C:\\Users\\MicroApt\\AppData\\Local\\Temp\\ipykernel_13736\\4041856135.py:9: DeprecationWarning: In a future version, `df.iloc[:, i] = newvals` will attempt to set the values inplace instead of always setting a new array. To retain the old behavior, use either `df[df.columns[i]] = newvals` or, if columns are non-unique, `df.isetitem(i, newvals)`\n",
      "  data.iloc[:,i]=encoder.fit_transform(data.iloc[:,i].astype(str))\n",
      "C:\\Users\\MicroApt\\AppData\\Local\\Temp\\ipykernel_13736\\4041856135.py:9: DeprecationWarning: In a future version, `df.iloc[:, i] = newvals` will attempt to set the values inplace instead of always setting a new array. To retain the old behavior, use either `df[df.columns[i]] = newvals` or, if columns are non-unique, `df.isetitem(i, newvals)`\n",
      "  data.iloc[:,i]=encoder.fit_transform(data.iloc[:,i].astype(str))\n",
      "C:\\Users\\MicroApt\\AppData\\Local\\Temp\\ipykernel_13736\\4041856135.py:9: DeprecationWarning: In a future version, `df.iloc[:, i] = newvals` will attempt to set the values inplace instead of always setting a new array. To retain the old behavior, use either `df[df.columns[i]] = newvals` or, if columns are non-unique, `df.isetitem(i, newvals)`\n",
      "  data.iloc[:,i]=encoder.fit_transform(data.iloc[:,i].astype(str))\n",
      "C:\\Users\\MicroApt\\AppData\\Local\\Temp\\ipykernel_13736\\4041856135.py:9: DeprecationWarning: In a future version, `df.iloc[:, i] = newvals` will attempt to set the values inplace instead of always setting a new array. To retain the old behavior, use either `df[df.columns[i]] = newvals` or, if columns are non-unique, `df.isetitem(i, newvals)`\n",
      "  data.iloc[:,i]=encoder.fit_transform(data.iloc[:,i].astype(str))\n"
     ]
    }
   ],
   "source": [
    "import pandas as pd\n",
    "col=['Age','Gender','FamilyHist','Diet','Lifestyle','Cholesterol','HeartDisease']\n",
    "data=pd.read_csv('lab6.csv',names=col)\n",
    "print(data)\n",
    "\n",
    "from sklearn.preprocessing import LabelEncoder\n",
    "encoder=LabelEncoder()\n",
    "for i in range(len(col)):\n",
    "    data.iloc[:,i]=encoder.fit_transform(data.iloc[:,i].astype(str))\n",
    "    \n",
    "x=data.iloc[:,0:6]\n",
    "y=data.iloc[:,-1].astype(int)\n",
    "from sklearn.model_selection import train_test_split\n",
    "x_train,x_test,y_train,y_test=train_test_split(x,y,test_size=0.2)\n",
    "\n",
    "from sklearn.naive_bayes import GaussianNB\n",
    "clf=GaussianNB()\n",
    "clf.fit(x_train,y_train)\n",
    "y_pred=clf.predict(x_test)\n",
    "\n",
    "from sklearn.metrics import confusion_matrix\n",
    "print('confusion matrix',confusion_matrix(y_test,y_pred))"
   ]
  },
  {
   "cell_type": "markdown",
   "id": "2a5a6470",
   "metadata": {},
   "source": [
    "## 7 pgm"
   ]
  },
  {
   "cell_type": "code",
   "execution_count": 7,
   "id": "82529843",
   "metadata": {},
   "outputs": [
    {
     "name": "stdout",
     "output_type": "stream",
     "text": [
      "Input Data and Shape\n",
      "(25, 2)\n",
      "X  [[5.1 3.5]\n",
      " [4.9 3. ]\n",
      " [4.7 3.2]\n",
      " [4.6 3.1]\n",
      " [5.  3.6]\n",
      " [5.4 3.9]\n",
      " [4.6 3.4]\n",
      " [5.  3.4]\n",
      " [4.4 2.9]\n",
      " [4.9 3.1]\n",
      " [5.4 3.7]\n",
      " [4.8 3.4]\n",
      " [4.8 3. ]\n",
      " [4.3 3. ]\n",
      " [5.8 4. ]\n",
      " [5.7 4.4]\n",
      " [5.4 3.9]\n",
      " [5.1 3.5]\n",
      " [5.7 3.8]\n",
      " [5.1 3.8]\n",
      " [5.4 3.4]\n",
      " [5.1 3.7]\n",
      " [4.6 3.6]\n",
      " [5.1 3.3]\n",
      " [4.8 3.4]]\n",
      "Graph for whole dataset\n"
     ]
    },
    {
     "data": {
      "image/png": "[encoded data removed]",
      "text/plain": [
       "<Figure size 640x480 with 1 Axes>"
      ]
     },
     "metadata": {},
     "output_type": "display_data"
    },
    {
     "name": "stderr",
     "output_type": "stream",
     "text": [
      "C:\\Users\\MicroApt\\OneDrive\\anaconda3\\Lib\\site-packages\\sklearn\\cluster\\_kmeans.py:1412: FutureWarning: The default value of `n_init` will change from 10 to 'auto' in 1.4. Set the value of `n_init` explicitly to suppress the warning\n",
      "  super()._check_params_vs_input(X, default_n_init=10)\n",
      "C:\\Users\\MicroApt\\OneDrive\\anaconda3\\Lib\\site-packages\\joblib\\externals\\loky\\backend\\context.py:110: UserWarning: Could not find the number of physical cores for the following reason:\n",
      "[WinError 2] The system cannot find the file specified\n",
      "Returning the number of logical cores instead. You can silence this warning by setting LOKY_MAX_CPU_COUNT to the number of cores you want to use.\n",
      "  warnings.warn(\n",
      "  File \"C:\\Users\\MicroApt\\OneDrive\\anaconda3\\Lib\\site-packages\\joblib\\externals\\loky\\backend\\context.py\", line 199, in _count_physical_cores\n",
      "    cpu_info = subprocess.run(\n",
      "               ^^^^^^^^^^^^^^^\n",
      "  File \"C:\\Users\\MicroApt\\OneDrive\\anaconda3\\Lib\\subprocess.py\", line 548, in run\n",
      "    with Popen(*popenargs, **kwargs) as process:\n",
      "         ^^^^^^^^^^^^^^^^^^^^^^^^^^^\n",
      "  File \"C:\\Users\\MicroApt\\OneDrive\\anaconda3\\Lib\\subprocess.py\", line 1026, in __init__\n",
      "    self._execute_child(args, executable, preexec_fn, close_fds,\n",
      "  File \"C:\\Users\\MicroApt\\OneDrive\\anaconda3\\Lib\\subprocess.py\", line 1538, in _execute_child\n",
      "    hp, ht, pid, tid = _winapi.CreateProcess(executable, args,\n",
      "                       ^^^^^^^^^^^^^^^^^^^^^^^^^^^^^^^^^^^^^^^\n",
      "C:\\Users\\MicroApt\\OneDrive\\anaconda3\\Lib\\site-packages\\sklearn\\cluster\\_kmeans.py:1436: UserWarning: KMeans is known to have a memory leak on Windows with MKL, when there are less chunks than available threads. You can avoid it by setting the environment variable OMP_NUM_THREADS=1.\n",
      "  warnings.warn(\n"
     ]
    },
    {
     "name": "stdout",
     "output_type": "stream",
     "text": [
      "labels\t [5 8 2 2 5 0 1 5 6 8 0 1 8 6 7 4 0 5 7 3 9 3 1 5 1]\n",
      "centroids\t [[5.4        3.83333333]\n",
      " [4.7        3.45      ]\n",
      " [4.65       3.15      ]\n",
      " [5.1        3.75      ]\n",
      " [5.7        4.4       ]\n",
      " [5.06       3.46      ]\n",
      " [4.35       2.95      ]\n",
      " [5.75       3.9       ]\n",
      " [4.86666667 3.03333333]\n",
      " [5.4        3.4       ]]\n",
      "Graph using Kmeans Algorithm\n"
     ]
    },
    {
     "data": {
      "image/png": "[encoded data removed]",
      "text/plain": [
       "<Figure size 640x480 with 1 Axes>"
      ]
     },
     "metadata": {},
     "output_type": "display_data"
    },
    {
     "name": "stdout",
     "output_type": "stream",
     "text": [
      "Graph using EM Algorithm\n"
     ]
    },
    {
     "name": "stderr",
     "output_type": "stream",
     "text": [
      "C:\\Users\\MicroApt\\OneDrive\\anaconda3\\Lib\\site-packages\\sklearn\\cluster\\_kmeans.py:1436: UserWarning: KMeans is known to have a memory leak on Windows with MKL, when there are less chunks than available threads. You can avoid it by setting the environment variable OMP_NUM_THREADS=1.\n",
      "  warnings.warn(\n"
     ]
    },
    {
     "data": {
      "image/png": "[encoded data removed]",
      "text/plain": [
       "<Figure size 640x480 with 1 Axes>"
      ]
     },
     "metadata": {},
     "output_type": "display_data"
    }
   ],
   "source": [
    "import numpy as np \n",
    "import pandas as pd\n",
    "from matplotlib import pyplot as plt\n",
    "from sklearn.mixture import GaussianMixture \n",
    "from sklearn.cluster import KMeans\n",
    "data = pd.read_csv('lab7.csv') \n",
    "print(\"Input Data and Shape\") \n",
    "print(data.shape)\n",
    "data.head()\n",
    "\n",
    "f1 = data['V1'].values \n",
    "f2 = data['V2'].values\n",
    "X = np.array(list(zip(f1, f2)))\n",
    "\n",
    "print(\"X \", X)\n",
    "print('Graph for whole dataset') \n",
    "plt.scatter(f1, f2, c='black', s=15)\n",
    "plt.show()\n",
    "\n",
    "kmeans = KMeans(10, random_state=42) \n",
    "labels = kmeans.fit(X).predict(X) \n",
    "print(\"labels\t\",labels)\n",
    "centroids = kmeans.cluster_centers_ \n",
    "print(\"centroids\t\",centroids)\n",
    "plt.scatter(X[:, 0], X[:, 1], c=labels, s=40, cmap='viridis'); \n",
    "print('Graph using Kmeans Algorithm')\n",
    "plt.scatter(centroids[:, 0], centroids[:, 1], marker='*', s=200, c='#050505')\n",
    "plt.show()\n",
    "gmm = GaussianMixture(n_components=3).fit(X) \n",
    "labels = gmm.predict(X)\n",
    "\n",
    "probs = gmm.predict_proba(X) \n",
    "size = 10 * probs.max(1) ** 3\n",
    "print('Graph using EM Algorithm')\n",
    "\n",
    "plt.scatter(X[:, 0], X[:, 1], c=labels, s=size, cmap='viridis');\n",
    "plt.show()\n",
    "\n",
    "\n"
   ]
  },
  {
   "cell_type": "markdown",
   "id": "13d3bf1c",
   "metadata": {},
   "source": [
    "##  8 pgm"
   ]
  },
  {
   "cell_type": "code",
   "execution_count": 12,
   "id": "c4b639d1",
   "metadata": {},
   "outputs": [
    {
     "name": "stdout",
     "output_type": "stream",
     "text": [
      "\n",
      " Number of Training data: 107\n",
      " Number of Test Data: 42\n",
      "\n",
      " The predictions are: \n",
      " predicted='Iris-setosa', actual='Iris-setosa'\n",
      " predicted='Iris-setosa', actual='Iris-setosa'\n",
      " predicted='Iris-setosa', actual='Iris-setosa'\n",
      " predicted='Iris-setosa', actual='Iris-setosa'\n",
      " predicted='Iris-setosa', actual='Iris-setosa'\n",
      " predicted='Iris-setosa', actual='Iris-setosa'\n",
      " predicted='Iris-setosa', actual='Iris-setosa'\n",
      " predicted='Iris-setosa', actual='Iris-setosa'\n",
      " predicted='Iris-setosa', actual='Iris-setosa'\n",
      " predicted='Iris-setosa', actual='Iris-setosa'\n",
      " predicted='Iris-versicolor', actual='Iris-versicolor'\n",
      " predicted='Iris-versicolor', actual='Iris-versicolor'\n",
      " predicted='Iris-versicolor', actual='Iris-versicolor'\n",
      " predicted='Iris-versicolor', actual='Iris-versicolor'\n",
      " predicted='Iris-versicolor', actual='Iris-versicolor'\n",
      " predicted='Iris-versicolor', actual='Iris-versicolor'\n",
      " predicted='Iris-versicolor', actual='Iris-versicolor'\n",
      " predicted='Iris-virginica', actual='Iris-versicolor'\n",
      " predicted='Iris-versicolor', actual='Iris-versicolor'\n",
      " predicted='Iris-versicolor', actual='Iris-versicolor'\n",
      " predicted='Iris-versicolor', actual='Iris-versicolor'\n",
      " predicted='Iris-versicolor', actual='Iris-versicolor'\n",
      " predicted='Iris-versicolor', actual='Iris-versicolor'\n",
      " predicted='Iris-versicolor', actual='Iris-versicolor'\n",
      " predicted='Iris-versicolor', actual='Iris-versicolor'\n",
      " predicted='Iris-versicolor', actual='Iris-versicolor'\n",
      " predicted='Iris-versicolor', actual='Iris-versicolor'\n",
      " predicted='Iris-versicolor', actual='Iris-versicolor'\n",
      " predicted='Iris-virginica', actual='Iris-virginica'\n",
      " predicted='Iris-versicolor', actual='Iris-virginica'\n",
      " predicted='Iris-virginica', actual='Iris-virginica'\n",
      " predicted='Iris-virginica', actual='Iris-virginica'\n",
      " predicted='Iris-virginica', actual='Iris-virginica'\n",
      " predicted='Iris-virginica', actual='Iris-virginica'\n",
      " predicted='Iris-versicolor', actual='Iris-virginica'\n",
      " predicted='Iris-virginica', actual='Iris-virginica'\n",
      " predicted='Iris-virginica', actual='Iris-virginica'\n",
      " predicted='Iris-virginica', actual='Iris-virginica'\n",
      " predicted='Iris-virginica', actual='Iris-virginica'\n",
      " predicted='Iris-virginica', actual='Iris-virginica'\n",
      " predicted='Iris-virginica', actual='Iris-virginica'\n",
      " predicted='Iris-virginica', actual='Iris-virginica'\n",
      "\n",
      " The Accuracy is: 92.85714285714286%\n"
     ]
    }
   ],
   "source": [
    "import csv\n",
    "import random\n",
    "import math\n",
    "import operator\n",
    "def loadDataset(filename, split, trainingSet=[], testSet=[]):\n",
    "    with open(filename) as csvfile:\n",
    "        lines = csv.reader(csvfile)\n",
    "        dataset = list(lines)\n",
    "        for x in range(len(dataset)-1):\n",
    "            for y in range(4):\n",
    "                dataset[x][y] = float(dataset[x][y])\n",
    "            if random.random() < split:\n",
    "                trainingSet.append(dataset[x])\n",
    "            else:\n",
    "                testSet.append(dataset[x])\n",
    "def euclideanDistance(instance1, instance2, length):\n",
    "    distance = 0\n",
    "    for x in range(length):\n",
    "        distance += pow((instance1[x] - instance2[x]), 2)\n",
    "    return math.sqrt(distance)\n",
    "\n",
    "def getNeighbors(trainingSet, testInstance, k):\n",
    "    distances = []\n",
    "    length = len(testInstance)-1\n",
    "    for x in range(len(trainingSet)):\n",
    "        dist = euclideanDistance(testInstance, trainingSet[x], length)\n",
    "        distances.append((trainingSet[x], dist))\n",
    "    distances.sort(key=operator.itemgetter(1))\n",
    "    neighbors = []\n",
    "    for x in range(k):\n",
    "        neighbors.append(distances[x][0])\n",
    "    return neighbors\n",
    "\n",
    "def getResponse(neighbors):\n",
    "    classVotes = {}\n",
    "    for x in range(len(neighbors)):\n",
    "        response = neighbors[x][-1]\n",
    "        if response in classVotes:\n",
    "            classVotes[response] += 1\n",
    "        else:\n",
    "            classVotes[response] = 1\n",
    "    sortedVotes = sorted(classVotes.items(), key=operator.itemgetter(1), reverse=True)\n",
    "    return sortedVotes[0][0]\n",
    " \n",
    "def getAccuracy(testSet, predictions):\n",
    "    correct = 0\n",
    "    for x in range(len(testSet)):\n",
    "        if testSet[x][-1] == predictions[x]:\n",
    "            correct += 1\n",
    "    return (correct/float(len(testSet))) * 100.0\n",
    "\n",
    "def main():\n",
    "# prepare data\n",
    "    trainingSet=[]\n",
    "    testSet=[] \n",
    "    split = 0.67\n",
    "    loadDataset('iris_data.csv', split, trainingSet, testSet)\n",
    "    print ('\\n Number of Training data: ' + (repr(len(trainingSet))))\n",
    "    print (' Number of Test Data: ' + (repr(len(testSet))))\n",
    "# generate predictions\n",
    "    predictions=[]\n",
    "    k = 3\n",
    "    print('\\n The predictions are: ')\n",
    "    for x in range(len(testSet)):\n",
    "        neighbors = getNeighbors(trainingSet, testSet[x], k)\n",
    "        result = getResponse(neighbors)\n",
    "        predictions.append(result)\n",
    "        print(' predicted=' + repr(result) + ', actual=' + repr(testSet[x][-1]))\n",
    "    accuracy = getAccuracy(testSet, predictions)\n",
    "    print('\\n The Accuracy is: ' + repr(accuracy) + '%')\n",
    "\n",
    "main()\n",
    "\n"
   ]
  },
  {
   "cell_type": "markdown",
   "id": "63d36e48",
   "metadata": {},
   "source": [
    "## 9 pgm"
   ]
  },
  {
   "cell_type": "code",
   "execution_count": 1,
   "id": "7dcf0234",
   "metadata": {},
   "outputs": [
    {
     "name": "stdout",
     "output_type": "stream",
     "text": [
      "[16.99 10.34 21.01 23.68 24.59 25.29  8.77 26.88 15.04 14.78 10.27 35.26\n",
      " 15.42 18.43 14.83]\n",
      "15\n",
      "500\n"
     ]
    },
    {
     "data": {
      "image/png": "[encoded data removed]",
      "text/plain": [
       "<Figure size 640x480 with 1 Axes>"
      ]
     },
     "metadata": {},
     "output_type": "display_data"
    }
   ],
   "source": [
    "import numpy as np\n",
    "import matplotlib.pyplot as plt \n",
    "import pandas as pd\n",
    "tou = 1\n",
    "data=pd.read_csv(\"lab9.csv\") \n",
    "X_train = np.array(data.total_bill) \n",
    "print(X_train)\n",
    "X_train = X_train[:, np.newaxis] \n",
    "print(len(X_train))\n",
    "y_train = np.array(data.tip)\n",
    "\n",
    "X_test = np.array([i /10 for i in range(500)]) \n",
    "X_test = X_test[:, np.newaxis]\n",
    "y_test = [] \n",
    "count = 0\n",
    "for r in range(len(X_test)):\n",
    "    wts = np.exp(-np.sum((X_train - X_test[r]) ** 2, axis=1) / (2 * tou ** 2)) \n",
    "    W = np.diag(wts)\n",
    "    factor1 = np.linalg.inv(X_train.T.dot(W).dot(X_train)) #factor=XT.W.X\n",
    "    parameters = factor1.dot(X_train.T).dot(W).dot(y_train) #parameters=factor.XT.W.Y \n",
    "    prediction = X_test[r].dot(parameters) #X.Theta\n",
    "    y_test.append(prediction)\n",
    "    count += 1 \n",
    "print(len(y_test))\n",
    "y_test = np.array(y_test) \n",
    "plt.plot(X_train.squeeze(), y_train, 'o')\n",
    "\n",
    "plt.plot(X_test.squeeze(), y_test, 'o') \n",
    "plt.show()\n",
    "\n"
   ]
  },
  {
   "cell_type": "markdown",
   "id": "271ec391",
   "metadata": {},
   "source": [
    "# 10 pgm"
   ]
  },
  {
   "cell_type": "code",
   "execution_count": 1,
   "id": "246c0357",
   "metadata": {},
   "outputs": [
    {
     "name": "stdout",
     "output_type": "stream",
     "text": [
      "Accuracy score  1.0\n"
     ]
    },
    {
     "data": {
      "image/png": "[encoded data removed]",
      "text/plain": [
       "<Figure size 640x480 with 1 Axes>"
      ]
     },
     "metadata": {},
     "output_type": "display_data"
    },
    {
     "data": {
      "image/png": "[encoded data removed]",
      "text/plain": [
       "<Figure size 640x480 with 1 Axes>"
      ]
     },
     "metadata": {},
     "output_type": "display_data"
    }
   ],
   "source": [
    "import numpy as np\n",
    "import matplotlib.pyplot as plt\n",
    "import pandas as pd\n",
    "datasets = pd.read_csv('lab10.csv')\n",
    "X = datasets.iloc[:, [2,3]].values\n",
    "Y = datasets.iloc[:, 4].values\n",
    "from sklearn.model_selection import train_test_split\n",
    "X_Train, X_Test, Y_Train, Y_Test = train_test_split(X, Y, test_size = 0.25,\n",
    "random_state = 0)\n",
    "from sklearn.preprocessing import StandardScaler\n",
    "sc_X = StandardScaler()\n",
    "X_Train = sc_X.fit_transform(X_Train)\n",
    "X_Test = sc_X.transform(X_Test)\n",
    "from sklearn.svm import SVC\n",
    "classifier = SVC(kernel = 'linear', random_state = 0)\n",
    "classifier.fit(X_Train, Y_Train)\n",
    "Y_Pred = classifier.predict(X_Test)\n",
    "from sklearn import metrics\n",
    "print(\"Accuracy score \",metrics.accuracy_score(Y_Test, Y_Pred))\n",
    "plt.scatter(X_Train[:,0], X_Train[:, 1],c=Y_Train)\n",
    "plt.title('Support Vector Machine (Training set)')\n",
    "plt.xlabel('Age')\n",
    "plt.ylabel('Estimated Salary')\n",
    "w=classifier.coef_[0]\n",
    "a=-w[0]/w[1]\n",
    "xx=np.linspace(-2.5,2.5)\n",
    "yy=a*xx -(classifier.intercept_[0])/w[1]\n",
    "plt.plot(xx,yy)\n",
    "plt.show();\n",
    "plt.scatter(X_Test[:,0], X_Test[:, 1],c=Y_Test)\n",
    "plt.title('Support Vector Machine (Test set)')\n",
    "plt.xlabel('Age')\n",
    "plt.ylabel('Estimated Salary')\n",
    "w=classifier.coef_[0]\n",
    "a=-w[0]/w[1]\n",
    "xx=np.linspace(-2.5,2.5)\n",
    "yy=a*xx -(classifier.intercept_[0])/w[1]\n",
    "plt.plot(xx,yy)\n",
    "plt.show();\n"
   ]
  },
  {
   "cell_type": "code",
   "execution_count": null,
   "id": "c3b72448",
   "metadata": {},
   "outputs": [],
   "source": []
  }
 ],
 "metadata": {
  "kernelspec": {
   "display_name": "Python 3 (ipykernel)",
   "language": "python",
   "name": "python3"
  },
  "language_info": {
   "codemirror_mode": {
    "name": "ipython",
    "version": 3
   },
   "file_extension": ".py",
   "mimetype": "text/x-python",
   "name": "python",
   "nbconvert_exporter": "python",
   "pygments_lexer": "ipython3",
   "version": "3.11.4"
  }
 },
 "nbformat": 4,
 "nbformat_minor": 5
}
